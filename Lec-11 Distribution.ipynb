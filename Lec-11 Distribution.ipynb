{
 "cells": [
  {
   "cell_type": "code",
   "execution_count": 84,
   "id": "537b9b7e",
   "metadata": {},
   "outputs": [],
   "source": [
    "import scipy\n",
    "import numpy as np"
   ]
  },
  {
   "cell_type": "markdown",
   "id": "93beeeaf",
   "metadata": {},
   "source": [
    "# Binomial Distribution"
   ]
  },
  {
   "cell_type": "code",
   "execution_count": 85,
   "id": "f8d20fe1",
   "metadata": {},
   "outputs": [],
   "source": [
    "from scipy.stats import binom"
   ]
  },
  {
   "cell_type": "code",
   "execution_count": 86,
   "id": "874b0c25",
   "metadata": {},
   "outputs": [],
   "source": [
    "#![]((http://www.stat.yale.edu/Courses/1997-98/101/binpdf.gif))"
   ]
  },
  {
   "cell_type": "code",
   "execution_count": 87,
   "id": "8bf4af60",
   "metadata": {},
   "outputs": [
    {
     "data": {
      "text/html": [
       "<img src=\"http://www.stat.yale.edu/Courses/1997-98/101/binpdf.gif\" width=\"300\" height=\"300\"/>"
      ],
      "text/plain": [
       "<IPython.core.display.Image object>"
      ]
     },
     "execution_count": 87,
     "metadata": {},
     "output_type": "execute_result"
    }
   ],
   "source": [
    "# import image module\n",
    "from IPython.display import Image\n",
    "  \n",
    "# get the image\n",
    "Image(url=\"http://www.stat.yale.edu/Courses/1997-98/101/binpdf.gif\", width=300, height=300)"
   ]
  },
  {
   "cell_type": "markdown",
   "id": "e99ab8a8",
   "metadata": {},
   "source": [
    "# Question"
   ]
  },
  {
   "cell_type": "markdown",
   "id": "80ae2581",
   "metadata": {},
   "source": [
    "**A survey found that 65% of all financial consumers were very satisfied with their primary financial institution. Suppose that 25 financial consumers are sampled and if survey result still holds true today, what is the probability that exactly 19 are very satisfied with their primary financial institution?**"
   ]
  },
  {
   "cell_type": "code",
   "execution_count": 88,
   "id": "786db263",
   "metadata": {},
   "outputs": [
    {
     "name": "stdout",
     "output_type": "stream",
     "text": [
      "0.090777998593228\n"
     ]
    }
   ],
   "source": [
    "print(binom.pmf(k=19,n=25,p=0.65)) #pmf-Probability Mass Function"
   ]
  },
  {
   "cell_type": "markdown",
   "id": "3848f828",
   "metadata": {},
   "source": [
    "# Question"
   ]
  },
  {
   "cell_type": "markdown",
   "id": "a5af6d6a",
   "metadata": {},
   "source": [
    "**According to the U.S Census Bereau. approximately 6% of all workers in jackson, Mississippi are unemployed. In conducting a random telephone survey in Jackson. What is the probability of getting two or fewer unemployed workers in a sample of 20?**"
   ]
  },
  {
   "cell_type": "code",
   "execution_count": 89,
   "id": "d586ece7",
   "metadata": {},
   "outputs": [
    {
     "data": {
      "text/plain": [
       "0.8850275957378549"
      ]
     },
     "execution_count": 89,
     "metadata": {},
     "output_type": "execute_result"
    }
   ],
   "source": [
    "binom.cdf(2,20,0.06) #Cumalative Density Function <=2 , Sample=20 , probability=0.06"
   ]
  },
  {
   "cell_type": "markdown",
   "id": "88f1a5a7",
   "metadata": {},
   "source": [
    "# Question"
   ]
  },
  {
   "cell_type": "markdown",
   "id": "b37f478a",
   "metadata": {},
   "source": [
    "**Solve the binomial probability for n=20, p=0.40 and x=10**"
   ]
  },
  {
   "cell_type": "code",
   "execution_count": 90,
   "id": "100c0f59",
   "metadata": {},
   "outputs": [
    {
     "name": "stdout",
     "output_type": "stream",
     "text": [
      "0.11714155053639005\n"
     ]
    }
   ],
   "source": [
    "print(binom.pmf(k=10, n=20, p=0.4)) #pmf-Probability Mass Function"
   ]
  },
  {
   "cell_type": "markdown",
   "id": "de63dd5a",
   "metadata": {},
   "source": [
    "# Poisson Distribution"
   ]
  },
  {
   "cell_type": "code",
   "execution_count": 91,
   "id": "55050da9",
   "metadata": {},
   "outputs": [],
   "source": [
    "from scipy.stats import poisson"
   ]
  },
  {
   "cell_type": "code",
   "execution_count": 92,
   "id": "e2d434d3",
   "metadata": {},
   "outputs": [
    {
     "data": {
      "text/plain": [
       "0.18044704431548356"
      ]
     },
     "execution_count": 92,
     "metadata": {},
     "output_type": "execute_result"
    }
   ],
   "source": [
    "poisson.pmf(3,2) #x=3, Mean=2 #pmf-Probability Mass Function"
   ]
  },
  {
   "cell_type": "markdown",
   "id": "170163ba",
   "metadata": {},
   "source": [
    "**Question**"
   ]
  },
  {
   "cell_type": "markdown",
   "id": "8a36e10e",
   "metadata": {},
   "source": [
    "**Suppose bank customers arrive randomply on weekday afternoons at an average of 3.2 customers every 4 minutes. What is the probability of exactly 5 customers arriving in a 4-minute interval on a weekday afternoon?**"
   ]
  },
  {
   "cell_type": "code",
   "execution_count": 93,
   "id": "7589e460",
   "metadata": {},
   "outputs": [
    {
     "data": {
      "text/plain": [
       "0.11397938346351824"
      ]
     },
     "execution_count": 93,
     "metadata": {},
     "output_type": "execute_result"
    }
   ],
   "source": [
    "poisson.pmf(5,3.2) #pmf-Probability Mass Function"
   ]
  },
  {
   "cell_type": "markdown",
   "id": "496f195b",
   "metadata": {},
   "source": [
    "**Question**"
   ]
  },
  {
   "cell_type": "markdown",
   "id": "6771a7a0",
   "metadata": {},
   "source": [
    "**Bank customers arrive randomply on weekday afternoons at an average of 3.2 customers every 4 minutes. What is the probability of having more than 7 customers in a 4-minute interval on a weekday afternoon?**"
   ]
  },
  {
   "cell_type": "code",
   "execution_count": 94,
   "id": "40319b84",
   "metadata": {},
   "outputs": [],
   "source": [
    "prob = poisson.cdf(7,3.2) #Probability up to 7 #Cumalative Density Function"
   ]
  },
  {
   "cell_type": "code",
   "execution_count": 95,
   "id": "7fd3f08c",
   "metadata": {},
   "outputs": [
    {
     "data": {
      "text/plain": [
       "0.01682984174895752"
      ]
     },
     "execution_count": 95,
     "metadata": {},
     "output_type": "execute_result"
    }
   ],
   "source": [
    "prob_more_than_7 = 1- prob\n",
    "prob_more_than_7"
   ]
  },
  {
   "cell_type": "markdown",
   "id": "e8e0f777",
   "metadata": {},
   "source": [
    "**Question**"
   ]
  },
  {
   "cell_type": "markdown",
   "id": "553b8129",
   "metadata": {},
   "source": [
    "**A bank has an average random arrival rate of 3.2 customers every 4 minutes. What is the probability of getting exactly 10 customers during an 8-minute interval?**"
   ]
  },
  {
   "cell_type": "code",
   "execution_count": 96,
   "id": "7485eaea",
   "metadata": {},
   "outputs": [
    {
     "data": {
      "text/plain": [
       "0.052790043854115495"
      ]
     },
     "execution_count": 96,
     "metadata": {},
     "output_type": "execute_result"
    }
   ],
   "source": [
    "poisson.pmf(10,6.4) #pmf-Probability Mass Function"
   ]
  },
  {
   "cell_type": "markdown",
   "id": "9f85a57c",
   "metadata": {},
   "source": [
    "# Uniform Distribution"
   ]
  },
  {
   "cell_type": "code",
   "execution_count": 97,
   "id": "35277b54",
   "metadata": {},
   "outputs": [],
   "source": [
    "from scipy.stats import uniform"
   ]
  },
  {
   "cell_type": "markdown",
   "id": "dc2f57b5",
   "metadata": {},
   "source": [
    "**Suppose the amount of time it takes to assemble a plastic module ranges from 27 to 39 seconds and that assembly times are uniformly distributed. Describe the distribution. What is the probability that a given assembly will take between 30 and 35 seconds?**"
   ]
  },
  {
   "cell_type": "code",
   "execution_count": 98,
   "id": "c273a53d",
   "metadata": {},
   "outputs": [
    {
     "data": {
      "text/plain": [
       "array([27, 28, 29, 30, 31, 32, 33, 34, 35, 36, 37, 38, 39])"
      ]
     },
     "execution_count": 98,
     "metadata": {},
     "output_type": "execute_result"
    }
   ],
   "source": [
    "U = np.arange(27,40,1) #arange= array[27  to 39 with interval 1] , 40 because it calculate upto n-1 \n",
    "U"
   ]
  },
  {
   "cell_type": "code",
   "execution_count": 99,
   "id": "58326207",
   "metadata": {},
   "outputs": [
    {
     "data": {
      "text/plain": [
       "33.0"
      ]
     },
     "execution_count": 99,
     "metadata": {},
     "output_type": "execute_result"
    }
   ],
   "source": [
    "uniform.mean(loc=27,scale=12) #loc=starting point, scale =39-27=12"
   ]
  },
  {
   "cell_type": "code",
   "execution_count": 100,
   "id": "f0da2913",
   "metadata": {},
   "outputs": [
    {
     "data": {
      "text/plain": [
       "array([0.25      , 0.33333333, 0.41666667, 0.5       , 0.58333333,\n",
       "       0.66666667])"
      ]
     },
     "execution_count": 100,
     "metadata": {},
     "output_type": "execute_result"
    }
   ],
   "source": [
    "uniform.cdf(np.arange(30,36,1), loc=27, scale=12)"
   ]
  },
  {
   "cell_type": "code",
   "execution_count": 101,
   "id": "1f480c86",
   "metadata": {},
   "outputs": [
    {
     "data": {
      "text/plain": [
       "0.41666667"
      ]
     },
     "execution_count": 101,
     "metadata": {},
     "output_type": "execute_result"
    }
   ],
   "source": [
    "prob1 = 0.66666667 -0.25\n",
    "prob1"
   ]
  },
  {
   "cell_type": "markdown",
   "id": "3383d1b3",
   "metadata": {},
   "source": [
    "# Question"
   ]
  },
  {
   "cell_type": "markdown",
   "id": "b66d2a7d",
   "metadata": {},
   "source": [
    "**According to the National Association of Insurance Commissioners, the average annual cost for automobile insurance in the united states in a recent year was 691 doller. Suppose automobile insurance costs are uniformly distributed in the united states with a range from 200 to 1182 doller. What is the standard deviation of this uniform sistribution?**"
   ]
  },
  {
   "cell_type": "code",
   "execution_count": 102,
   "id": "3fcd01ec",
   "metadata": {},
   "outputs": [
    {
     "data": {
      "text/plain": [
       "691.0"
      ]
     },
     "execution_count": 102,
     "metadata": {},
     "output_type": "execute_result"
    }
   ],
   "source": [
    "uniform.mean(loc=200, scale=982) #Starting point=200, Scale=1182-200=982"
   ]
  },
  {
   "cell_type": "code",
   "execution_count": 103,
   "id": "dc22aa23",
   "metadata": {},
   "outputs": [
    {
     "data": {
      "text/plain": [
       "283.4789821721062"
      ]
     },
     "execution_count": 103,
     "metadata": {},
     "output_type": "execute_result"
    }
   ],
   "source": [
    "uniform.std(loc=200, scale=982)"
   ]
  },
  {
   "cell_type": "markdown",
   "id": "5b252fa1",
   "metadata": {},
   "source": [
    "# Normal Distribution"
   ]
  },
  {
   "cell_type": "code",
   "execution_count": 104,
   "id": "c7961b5e",
   "metadata": {},
   "outputs": [],
   "source": [
    "#![](https://ds055uzetaobb.cloudfront.net/brioche/uploads/enBFdM8LyU-basic-normal-distribution.png?width=1200)"
   ]
  },
  {
   "cell_type": "code",
   "execution_count": 105,
   "id": "aafc9fc6",
   "metadata": {},
   "outputs": [
    {
     "data": {
      "text/html": [
       "<img src=\"https://ds055uzetaobb.cloudfront.net/brioche/uploads/enBFdM8LyU-basic-normal-distribution.png?\" width=\"500\"/>"
      ],
      "text/plain": [
       "<IPython.core.display.Image object>"
      ]
     },
     "execution_count": 105,
     "metadata": {},
     "output_type": "execute_result"
    }
   ],
   "source": [
    "Image(url=\"https://ds055uzetaobb.cloudfront.net/brioche/uploads/enBFdM8LyU-basic-normal-distribution.png?\", width=500)"
   ]
  },
  {
   "cell_type": "code",
   "execution_count": 106,
   "id": "9216a747",
   "metadata": {},
   "outputs": [],
   "source": [
    "from scipy.stats import norm"
   ]
  },
  {
   "cell_type": "code",
   "execution_count": 107,
   "id": "4bca6217",
   "metadata": {},
   "outputs": [],
   "source": [
    "val,m,s = 68,65.5,2.5"
   ]
  },
  {
   "cell_type": "code",
   "execution_count": 108,
   "id": "32a51bce",
   "metadata": {},
   "outputs": [
    {
     "name": "stdout",
     "output_type": "stream",
     "text": [
      "0.8413447460685429\n"
     ]
    }
   ],
   "source": [
    "print(norm.cdf(val,m,s))"
   ]
  },
  {
   "cell_type": "markdown",
   "id": "b388ff55",
   "metadata": {},
   "source": [
    "**cdf(X>Val)**"
   ]
  },
  {
   "cell_type": "code",
   "execution_count": 109,
   "id": "a13a78ea",
   "metadata": {},
   "outputs": [
    {
     "name": "stdout",
     "output_type": "stream",
     "text": [
      "0.15865525393145707\n"
     ]
    }
   ],
   "source": [
    "print(1-norm.cdf(val,m,s))"
   ]
  },
  {
   "cell_type": "markdown",
   "id": "e4854ab1",
   "metadata": {},
   "source": [
    "**cdf(Val1<x<Val2)**"
   ]
  },
  {
   "cell_type": "code",
   "execution_count": 110,
   "id": "b150365f",
   "metadata": {},
   "outputs": [
    {
     "name": "stdout",
     "output_type": "stream",
     "text": [
      "0.6826894921370859\n"
     ]
    }
   ],
   "source": [
    "print((norm.cdf(val,m,s))-(norm.cdf(63,m,s))) #area between 68 & 63"
   ]
  },
  {
   "cell_type": "markdown",
   "id": "67ea9a1a",
   "metadata": {},
   "source": [
    "# Question"
   ]
  },
  {
   "cell_type": "markdown",
   "id": "ba8da8dd",
   "metadata": {},
   "source": [
    "**What is the probability of obtaining a score greater than 700 on a GMAT test that has a mean of 494 and a standard deviation of 100? Assume GMAT scores are normally distributed.**"
   ]
  },
  {
   "cell_type": "markdown",
   "id": "2140633b",
   "metadata": {},
   "source": [
    "P(x>700|m=494 and s=100) =?"
   ]
  },
  {
   "cell_type": "code",
   "execution_count": 111,
   "id": "2d99d773",
   "metadata": {},
   "outputs": [
    {
     "name": "stdout",
     "output_type": "stream",
     "text": [
      "0.019699270409376912\n"
     ]
    }
   ],
   "source": [
    "print(1-norm.cdf(700,494,100))"
   ]
  },
  {
   "cell_type": "markdown",
   "id": "05128c6f",
   "metadata": {},
   "source": [
    "**For the same GMAT examination, What is the probability of randomly drawing a score that is 550 or less?**"
   ]
  },
  {
   "cell_type": "code",
   "execution_count": 112,
   "id": "2f33444b",
   "metadata": {},
   "outputs": [
    {
     "name": "stdout",
     "output_type": "stream",
     "text": [
      "0.712260281150973\n"
     ]
    }
   ],
   "source": [
    "print(norm.cdf(550,494,100))"
   ]
  },
  {
   "cell_type": "markdown",
   "id": "c6e5c41b",
   "metadata": {},
   "source": [
    "**What is the probability of randomly obtaining a score between 300 and 600 on the GMAT exam?**"
   ]
  },
  {
   "cell_type": "code",
   "execution_count": 113,
   "id": "b6c3e0b0",
   "metadata": {},
   "outputs": [
    {
     "name": "stdout",
     "output_type": "stream",
     "text": [
      "0.8292378553956377\n"
     ]
    }
   ],
   "source": [
    "print(norm.cdf(600,494,100)-norm.cdf(300,494,100))"
   ]
  },
  {
   "cell_type": "markdown",
   "id": "c79ca202",
   "metadata": {},
   "source": [
    "**What is the probability of getting a score between 350 and 450 on the same GMAT exam?**"
   ]
  },
  {
   "cell_type": "code",
   "execution_count": 114,
   "id": "0c364352",
   "metadata": {},
   "outputs": [
    {
     "name": "stdout",
     "output_type": "stream",
     "text": [
      "0.2550348541262666\n"
     ]
    }
   ],
   "source": [
    "print(norm.cdf(450,494,100)-norm.cdf(350,494,100))"
   ]
  },
  {
   "cell_type": "code",
   "execution_count": 115,
   "id": "a858109e",
   "metadata": {},
   "outputs": [
    {
     "data": {
      "text/plain": [
       "1.6448536269514722"
      ]
     },
     "execution_count": 115,
     "metadata": {},
     "output_type": "execute_result"
    }
   ],
   "source": [
    "norm.ppf(0.95)"
   ]
  },
  {
   "cell_type": "code",
   "execution_count": 116,
   "id": "b9c10af5",
   "metadata": {},
   "outputs": [
    {
     "data": {
      "text/plain": [
       "-0.45988328292440145"
      ]
     },
     "execution_count": 116,
     "metadata": {},
     "output_type": "execute_result"
    }
   ],
   "source": [
    "norm.ppf(1-.6772)"
   ]
  },
  {
   "cell_type": "markdown",
   "id": "0c7cdafa",
   "metadata": {},
   "source": [
    "# Hypergeometric Distribution example"
   ]
  },
  {
   "cell_type": "code",
   "execution_count": 117,
   "id": "44af3050",
   "metadata": {},
   "outputs": [],
   "source": [
    "from scipy.stats import hypergeom"
   ]
  },
  {
   "cell_type": "markdown",
   "id": "25fb6572",
   "metadata": {},
   "source": [
    "**Suppose 18 major computer companies operate in the United States and that 12 are located in California's Silicon Valley. If three computer companies are selected randomly from the entire list. What is the probability that one or more of the selected companies are located in silicon valley?**"
   ]
  },
  {
   "cell_type": "code",
   "execution_count": 118,
   "id": "544a113c",
   "metadata": {},
   "outputs": [],
   "source": [
    "prob2 = hypergeom.sf(0,18,3,12) #Hypergeom.sf(x-1,N,n,A), sf=1-cdf"
   ]
  },
  {
   "cell_type": "code",
   "execution_count": 119,
   "id": "f1c41524",
   "metadata": {},
   "outputs": [
    {
     "data": {
      "text/plain": [
       "0.9754901960784306"
      ]
     },
     "execution_count": 119,
     "metadata": {},
     "output_type": "execute_result"
    }
   ],
   "source": [
    "prob2"
   ]
  },
  {
   "cell_type": "markdown",
   "id": "fb436fa8",
   "metadata": {},
   "source": [
    "**A western city has 18 police officers eligible for promotion. Eleven of the 18 are Hispanic. Suppose only five of the police offficers are chosen for promotion. If the officers chosen for promotion had been selected by chance alone. What is the probability that one or fewer of the five of the five promoted officers would have been Hispanic?**"
   ]
  },
  {
   "cell_type": "code",
   "execution_count": 120,
   "id": "3494de58",
   "metadata": {},
   "outputs": [],
   "source": [
    "prob3 = hypergeom.cdf(1,18,5,11)"
   ]
  },
  {
   "cell_type": "code",
   "execution_count": 121,
   "id": "11415582",
   "metadata": {},
   "outputs": [
    {
     "data": {
      "text/plain": [
       "0.04738562091503275"
      ]
     },
     "execution_count": 121,
     "metadata": {},
     "output_type": "execute_result"
    }
   ],
   "source": [
    "prob3"
   ]
  },
  {
   "cell_type": "markdown",
   "id": "9aee6b2d",
   "metadata": {},
   "source": [
    "# Exponential Distribution"
   ]
  },
  {
   "cell_type": "code",
   "execution_count": 122,
   "id": "3afb3e12",
   "metadata": {},
   "outputs": [],
   "source": [
    "from scipy.stats import expon"
   ]
  },
  {
   "cell_type": "markdown",
   "id": "32d8d30b",
   "metadata": {},
   "source": [
    "**A manufacturing firm has been involved in statistical quality control for several years. As part of the production process, parts are randomly selected and tested. From the records of these tests. It has been established that a defective part occurs in a pattern that is Poisson distributed on the average of 1.38 defects every 20 minutes during production runs. Use this information to determine that less than 15 minutes will elapse between any two defects?**"
   ]
  },
  {
   "cell_type": "code",
   "execution_count": 123,
   "id": "e9f63f6a",
   "metadata": {},
   "outputs": [
    {
     "data": {
      "text/plain": [
       "0.7246376811594204"
      ]
     },
     "execution_count": 123,
     "metadata": {},
     "output_type": "execute_result"
    }
   ],
   "source": [
    "µ1=1/1.38 # for 20 minutes\n",
    "µ1"
   ]
  },
  {
   "cell_type": "code",
   "execution_count": 124,
   "id": "6aa87e6f",
   "metadata": {},
   "outputs": [
    {
     "data": {
      "text/plain": [
       "0.6447736190750485"
      ]
     },
     "execution_count": 124,
     "metadata": {},
     "output_type": "execute_result"
    }
   ],
   "source": [
    "expon.cdf(0.75,0,(1/1.38)) #15/20=0.75, loc=0 because y=(x-loc)/scale. and y=x/scale"
   ]
  }
 ],
 "metadata": {
  "kernelspec": {
   "display_name": "Python 3 (ipykernel)",
   "language": "python",
   "name": "python3"
  },
  "language_info": {
   "codemirror_mode": {
    "name": "ipython",
    "version": 3
   },
   "file_extension": ".py",
   "mimetype": "text/x-python",
   "name": "python",
   "nbconvert_exporter": "python",
   "pygments_lexer": "ipython3",
   "version": "3.7.7"
  }
 },
 "nbformat": 4,
 "nbformat_minor": 5
}
