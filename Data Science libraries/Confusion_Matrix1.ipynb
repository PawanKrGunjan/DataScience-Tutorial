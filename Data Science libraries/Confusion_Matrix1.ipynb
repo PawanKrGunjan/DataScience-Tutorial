{
  "cells": [
    {
      "cell_type": "markdown",
      "metadata": {
        "id": "view-in-github",
        "colab_type": "text"
      },
      "source": [
        "<a href=\"https://colab.research.google.com/github/PawanKrGunjan/Python-Library/blob/main/Confusion_Matrix1.ipynb\" target=\"_parent\"><img src=\"https://colab.research.google.com/assets/colab-badge.svg\" alt=\"Open In Colab\"/></a>"
      ]
    },
    {
      "cell_type": "code",
      "execution_count": null,
      "id": "bb3e7034",
      "metadata": {
        "id": "bb3e7034",
        "outputId": "ba67f30e-b524-402e-84db-59ddf5630d75"
      },
      "outputs": [
        {
          "name": "stdout",
          "output_type": "stream",
          "text": [
            "The data to be plotted:\n",
            "\n",
            "[[62 79  8 94 33 62 71 47 43 51]\n",
            " [42 64 98 86 19 45 56  3 66 26]\n",
            " [ 5 73 82 48 79 24 33  5 69 43]\n",
            " [78 41 58 90 64 60 90 90 19  2]\n",
            " [85 62 37 44 77 93 52 24 63 22]\n",
            " [86 65 20 46 60 84  7 89 67 10]\n",
            " [72 60 72 62 16 16 49 43 75 27]\n",
            " [ 2 52  6 81 38 67 20 58 71  5]\n",
            " [24 69 21 74 57  9  5 92 75  3]\n",
            " [91 31 16 84 51 17 60 59 47 96]]\n"
          ]
        },
        {
          "data": {
            "image/png": "[encoded data removed]",
            "text/plain": [
              "<Figure size 432x288 with 2 Axes>"
            ]
          },
          "metadata": {
            "needs_background": "light"
          },
          "output_type": "display_data"
        }
      ],
      "source": [
        "# importing the modules\n",
        "import numpy as np\n",
        "import seaborn as sn\n",
        "import matplotlib.pyplot as plt\n",
        "  \n",
        "# generating 2-D 10x10 matrix of random numbers\n",
        "# from 1 to 100\n",
        "data = np.random.randint(low = 1,\n",
        "                         high = 100,\n",
        "                         size = (10, 10))\n",
        "print(\"The data to be plotted:\\n\")\n",
        "print(data)\n",
        "  \n",
        "# plotting the heatmap\n",
        "hm = sn.heatmap(data = data)\n",
        "  \n",
        "# displaying the plotted heatmap\n",
        "plt.show()"
      ]
    },
    {
      "cell_type": "code",
      "execution_count": null,
      "id": "6015dd5c",
      "metadata": {
        "id": "6015dd5c"
      },
      "outputs": [],
      "source": [
        ""
      ]
    }
  ],
  "metadata": {
    "kernelspec": {
      "display_name": "Python 3 (ipykernel)",
      "language": "python",
      "name": "python3"
    },
    "language_info": {
      "codemirror_mode": {
        "name": "ipython",
        "version": 3
      },
      "file_extension": ".py",
      "mimetype": "text/x-python",
      "name": "python",
      "nbconvert_exporter": "python",
      "pygments_lexer": "ipython3",
      "version": "3.7.7"
    },
    "colab": {
      "name": "Confusion Matrix1.ipynb",
      "provenance": [],
      "include_colab_link": true
    }
  },
  "nbformat": 4,
  "nbformat_minor": 5
}